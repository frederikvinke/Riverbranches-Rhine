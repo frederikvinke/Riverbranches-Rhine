{
 "cells": [
  {
   "cell_type": "markdown",
   "metadata": {},
   "source": [
    "Script to simulate hydrodynamics over a river section based on different discharges upstream.\n",
    "\n",
    "The physical calculations are performed by the analytical model based on the Manning formula, for which stationar and uniform flow is assumed:\n",
    "\n",
    "    Q=K S^0,5 A R^(2/3)\n",
    "\n",
    "To do that first the geometric parameters (hydraulic radius, perimeter and surface area) are computed by the function conv_function_basic() based on the input of a criss section('data_bat_csv).\n",
    "\n",
    "Since we are not always dealing with normal flow a backwatercurve is performed by the Bresse fit\n",
    "    d = de + (d0-de)2^(L/105) with L05 - 0.24 de /S*d(d0/de)^0,75\n",
    "    \n",
    "By Bart Strijker, adapted by Koen Hiemstra. Koen Hiemstra applied a method for Transverse slope and Bedforms.\n",
    "\n",
    "\n",
    "Version Frederik:\n",
    "This is a concept model for PhD-research of the Rhine branches. In this case the river stretch Waal.\n",
    "\n"
   ]
  },
  {
   "cell_type": "code",
   "execution_count": 2,
   "metadata": {},
   "outputs": [],
   "source": [
    "#In this cell all the needed packages in this script are imported:\n",
    "\n",
    "import math\n",
    "from numpy import *\n",
    "import matplotlib.pyplot as plt\n",
    "import csv"
   ]
  },
  {
   "cell_type": "code",
   "execution_count": 3,
   "metadata": {},
   "outputs": [],
   "source": [
    "#Physical parameters\n",
    "g=9.81"
   ]
  },
  {
   "cell_type": "markdown",
   "metadata": {},
   "source": [
    "## Define the parameters of the river system "
   ]
  },
  {
   "cell_type": "code",
   "execution_count": 4,
   "metadata": {},
   "outputs": [],
   "source": [
    "#Bathymetry river system: This is a file based on the data of a SOBEK-simulation in 2013 (provided by Max Schropp to Koen Hiemstra).\n",
    "import csv\n",
    "with open ('River_branches_data.csv') as f:   #Reading csv file with bathymetry data of the river branches\n",
    "    reader = csv.reader(f, delimiter=';')\n",
    "    base_list = list(reader)\n",
    "    mylist=base_list[1:681]\n",
    "\n",
    "# Define lists of parameters\n",
    "    \n",
    "    point=[]\n",
    "    name=[]\n",
    "    x=[]\n",
    "    y=[]\n",
    "    kms=[]\n",
    "    waterlevels=[]\n",
    "    width_summerbed=[]\n",
    "    level_summerbed=[]\n",
    "    level_winterbed=[]\n",
    "    chezy=[] \n",
    "\n",
    "    for row in mylist:\n",
    "        point.append(row [0])\n",
    "        name.append(row [1])\n",
    "        x.append(row[2])\n",
    "        y.append(row[3])\n",
    "        kms.append(row[5])\n",
    "        waterlevels.append(row [9])\n",
    "        width_summerbed.append(row[11])\n",
    "        level_summerbed.append(row[21])\n",
    "        level_winterbed.append(row[24])\n",
    "        chezy.append(row[27])        \n",
    "\n",
    "# Change items of list from strings to floating numbers or integer \n",
    "location = [int(i) for i in point]\n",
    "X = [float(i) for i in x] #positie moet nog door 1000 worden gedeeld om oorspronkelijke coordinaten terug te krijgen\n",
    "Xco = [X[n]/1000 for n in range (0,len(X))]\n",
    "Y = [float(i) for i in y] #positie moet nog door 1000 worden gedeeld om oorspronkelijke coordinaten terug te krijgen\n",
    "Yco = [Y[n]/1000 for n in range (0,len(Y))]\n",
    "KM = [int(i) for i in kms]\n",
    "Waterlevel = [int(i) for i in waterlevels] #waterlevels in centimeters\n",
    "Width_summerbed = [int(i) for i in width_summerbed] # width in meter\n",
    "Level_summerbed = [int(i) for i in level_summerbed] # NAP + centimeters\n",
    "Level_winterbed = [int(i) for i in level_winterbed] # NAP + centimeters\n",
    "Chezy = [int(i) for i in chezy]\n"
   ]
  },
  {
   "cell_type": "code",
   "execution_count": 5,
   "metadata": {},
   "outputs": [],
   "source": [
    "# Define the different riverstretches of the system\n",
    "# Bovenrijn = cell 0:8\n",
    "# Waal = cell 9:195\n",
    "# Pannerdensch kanaal = cell 196:220\n",
    "# Nederrijn = cell 221:319\n",
    "# Lek = cell 320:440\n",
    "# Yssel = cell 441:669\n",
    "# Keteldiep = cell 670:679"
   ]
  },
  {
   "cell_type": "code",
   "execution_count": 6,
   "metadata": {
    "scrolled": true
   },
   "outputs": [],
   "source": [
    "# A list of the distance along the river between the locations is determined based on the riverlocations and X/Y-coordinates.    \n",
    "dKM=[KM[n]-KM[n-1] for n in range(1,len(KM))] #distance between the locations\n",
    "dX=[Xco[n]-Xco[n-1] for n in range(1,len(Xco))]\n",
    "dY=[Yco[n]-Yco[n-1] for n in range(1,len(Yco))]\n",
    "\n",
    "#print(dKM)\n"
   ]
  },
  {
   "cell_type": "markdown",
   "metadata": {},
   "source": [
    "## Define the hydraulic boundary conditions: incoming river discharge upstream of the river and the downstream water level based on a Q-h relation. "
   ]
  },
  {
   "cell_type": "code",
   "execution_count": 7,
   "metadata": {},
   "outputs": [],
   "source": [
    "# This part describes the hydraulic boundary conditions: incoming river discharge upstream of the river and the downstream water level based on a Q-h relation.\n",
    "# The upstream boundary condition is the incoming riverdischarge at Lobith. At bifurcation Pannerdensche kop a discharge distribution is applied \n",
    "# for the discharges into the Waal and the Pannerdensch channel. At the second bifurcation Ysselkop also a discharge distribution to the Nederrijn\n",
    "# and the Yssel is implemented based on the information provided RWS Oost-Nederland. Information from year 2000 based on measurements \n",
    "# of the year 1998 & 1999 for closed barriers in the Nederrijn.\n",
    "\n",
    "import csv\n",
    "with open ('DD_Rhinebranches.csv') as f:   #Reading csv file with bathymetry data of the river Waal\n",
    "    reader = csv.reader(f, delimiter=';')\n",
    "\n",
    "# Define lists of river discharges\n",
    "    qlobith=[]\n",
    "    qwaal=[]\n",
    "    qpkan=[]\n",
    "    qneder=[]\n",
    "    qyssel=[]\n",
    "    qtotal=[]\n",
    "        \n",
    "    for row in reader:    \n",
    "          \n",
    "        qlobith.append(row[0]) # incoming discharge Lobith\n",
    "        qwaal.append(row[1]) # discharge Waal\n",
    "        qpkan.append(row[2]) # discharge Pannerdensch kanaal\n",
    "        qneder.append(row[3]) #discharge Nederrijn\n",
    "        qyssel.append(row[4]) #discharge Yssel\n",
    "\n",
    "# Change items of list from strings to floating numbers or integer \n",
    "Qlob = [int(i) for i in qlobith] \n",
    "Qwaal = [int(i) for i in qwaal] \n",
    "Qpkan = [int(i) for i in qpkan] \n",
    "Qneder = [int(i) for i in qneder] \n",
    "Qyssel = [int(i) for i in qyssel]  \n",
    "\n",
    "#print(Qyssel)    "
   ]
  },
  {
   "cell_type": "code",
   "execution_count": 8,
   "metadata": {},
   "outputs": [
    {
     "name": "stdout",
     "output_type": "stream",
     "text": [
      "Qbovenrijn 1013\n",
      "QPannerdensch Kanaal 200\n",
      "QWaal 813\n",
      "QNederrijn 30\n",
      "QYssel 170\n"
     ]
    },
    {
     "data": {
      "image/png": "[encoded data removed]",
      "text/plain": [
       "<Figure size 432x288 with 1 Axes>"
      ]
     },
     "metadata": {},
     "output_type": "display_data"
    }
   ],
   "source": [
    "# In this cell the discharge distribution is defined based on the given river discharge of the Bovenrijn.\n",
    "\n",
    "import matplotlib.pyplot as plt\n",
    "\n",
    "waal, = plt.plot(Qlob, Qwaal, label='Waal') \n",
    "pkan, = plt.plot(Qlob, Qpkan, label='Pann kanaal')               \n",
    "neder, = plt.plot(Qlob, Qneder, label='Nederrijn') \n",
    "yssel, = plt.plot(Qlob, Qyssel, label='Yssel')\n",
    "plt.title('Discharge distribution')\n",
    "plt.legend(handles=[waal, pkan, neder, yssel])\n",
    "\n",
    "plt.ylabel('Qriverstretch [m3/s]')\n",
    "plt.xlabel('Q bovenrijn [m3/s]')\n",
    "\n",
    "# River discharge division in case of closed barriers in the range of QLobith=823-1430 m3/s\n",
    "qbovenrijn=1013\n",
    "\n",
    "if qbovenrijn==823:\n",
    "    qpkan=150\n",
    "    qwaal=673\n",
    "    qnederrijn=30\n",
    "    qyssel=120\n",
    "elif qbovenrijn==1013:\n",
    "    qpkan=200\n",
    "    qwaal=813\n",
    "    qnederrijn=30\n",
    "    qyssel=170   \n",
    "else:\n",
    "    print('No values.')\n",
    "    \n",
    "print('Qbovenrijn',qbovenrijn)\n",
    "print('QPannerdensch Kanaal',qpkan)\n",
    "print('QWaal',qwaal)\n",
    "print('QNederrijn',qnederrijn)\n",
    "print('QYssel',qyssel)"
   ]
  },
  {
   "cell_type": "markdown",
   "metadata": {},
   "source": [
    "## Manning formula calculations to determine normal and critical flow depth."
   ]
  },
  {
   "cell_type": "code",
   "execution_count": 9,
   "metadata": {},
   "outputs": [],
   "source": [
    "#Flip arrays for calculation starting at the downstream location of the riverstretch\n",
    "Xco_flip=Xco[::-1]\n",
    "Yco_flip=Yco[::-1]\n",
    "KM_flip=KM[::-1]\n",
    "dKM_flip=dKM[::-1]\n",
    "Waterlevel_flip=Waterlevel[::-1]\n",
    "Width_summerbed_flip=Width_summerbed[::-1]\n",
    "Level_summerbed_flip=Level_summerbed[::-1]\n",
    "Level_winterbed_flip=Level_winterbed[::-1] \n",
    "Chezy_flip=Chezy[::-1]\n",
    "\n",
    "# Define the different riverstretches of the system\n",
    "# Bovenrijn \n",
    "xbovenrijn = KM_flip[671:681]\n",
    "dKMbovenrijn = dKM_flip[671:681]\n",
    "WSbovenrijn = Width_summerbed_flip [671:681]\n",
    "LSbovenrijn = Level_summerbed_flip[671:681]\n",
    "LWbovenrijn = Level_winterbed_flip[671:861]\n",
    "\n",
    "# Waal\n",
    "xwaal = KM_flip[484:670]\n",
    "dKMwaal = dKM_flip[484:670]\n",
    "WSwaal = Width_summerbed_flip[484:670]\n",
    "LSwaal = Level_summerbed_flip[484:670]\n",
    "LWwaal = Level_winterbed_flip[484:670]\n",
    "\n",
    "# Pannerdensch kanaal = cell 196:220\n",
    "# Nederrijn = cell 221:319\n",
    "# Lek = cell 320:440\n",
    "# Yssel = cell 441:669\n",
    "# Keteldiep = cell 670:679\n"
   ]
  },
  {
   "cell_type": "code",
   "execution_count": 10,
   "metadata": {},
   "outputs": [],
   "source": [
    "from numpy import *\n",
    "from scipy.optimize import fsolve,newton\n",
    "\n",
    "#Riverstretch Bovenrijn\n",
    "\n",
    "#normal flow\n",
    "def Manning (y, qbovenrijn, b, S, n, k, m):\n",
    "    A=(b+m*y)*y # conveyance surface area [m2] =>(width*depth)\n",
    "    R=A/(b+2*y*(1+m**2)**(1/2)) #hydraulic radius [-]\n",
    "    return qbovenrijn-(C0/n)*A*R**(2/3)*S**(1/2)\n",
    "m=0\n",
    "\n",
    "#Channel slope\n",
    "#According to De Vries (1993), Sieben (2009), Sloff et al.(2014) and Blom (2016), the channel slope of the Waal river is 1.0*10^-4\n",
    "#and 1.2*10^-4.\n",
    "\n",
    "S0=0.00012 #bed slope of the rivert\n",
    "k=1 #roughnesse dependend on discharge\n",
    "n=0.0295 #Roughness of main channel\n",
    "C0=1\n",
    "\n",
    "y0_br = zeros(len(WSbovenrijn))\n",
    "y0_br = [fsolve(Manning,1, args=(qbovenrijn, WSbovenrijn[i], S0, n, C0, m)) for i in range (0, len(WSbovenrijn))] #normal flow depth in steady flow\n",
    "# is also upstream water dept of river stretch  \n",
    "\n",
    "waterlevels_normalbovenrijn =zeros(len(y0_br))\n",
    "waterlevels_normalbovenrijn = [y0_br[i]*100+LSbovenrijn[i] for i in range(0, len(y0_br))] #bovenstroomse waterstand van een traject dx tov NAP [m]=h_bov_e"
   ]
  },
  {
   "cell_type": "code",
   "execution_count": 11,
   "metadata": {},
   "outputs": [],
   "source": [
    "from numpy import *\n",
    "from scipy.optimize import fsolve,newton\n",
    "\n",
    "#Riverstretch Waal\n",
    "\n",
    "#normal flow\n",
    "def Manning (y, qwaal, b, S, n, k, m):\n",
    "    A=(b+m*y)*y # conveyance surface area [m2] =>(width*depth)\n",
    "    R=A/(b+2*y*(1+m**2)**(1/2)) #hydraulic radius [-]\n",
    "    return qwaal-(C0/n)*A*R**(2/3)*S**(1/2)\n",
    "m=0\n",
    "\n",
    "#Channel slope\n",
    "#According to De Vries (1993), Sieben (2009), Sloff et al.(2014) and Blom (2016), the channel slope of the Waal river is 1.0*10^-4\n",
    "#and 1.2*10^-4.\n",
    "\n",
    "S0=0.00012 #bed slope of the rivert\n",
    "k=1 #roughnesse dependend on discharge\n",
    "n=0.0295 #Roughness of main channel\n",
    "C0=1\n",
    "\n",
    "y0_waal = zeros(len(WSwaal))\n",
    "y0_waal = [fsolve(Manning,1, args=(qwaal, WSwaal[i], S0, n, C0, m)) for i in range (0, len(WSwaal))] #normal flow depth in steady flow\n",
    "# is also upstream water dept of river stretch  \n",
    "\n",
    "waterlevels_normalwaal =zeros(len(y0_waal))\n",
    "waterlevels_normalwaal = [y0_waal[i]*100+LSwaal[i] for i in range(0, len(y0_waal))] #bovenstroomse waterstand van een traject dx tov NAP [m]=h_bov_e\n",
    "#print(waterlevels_normalwaal)"
   ]
  },
  {
   "cell_type": "code",
   "execution_count": 12,
   "metadata": {},
   "outputs": [
    {
     "data": {
      "text/plain": [
       "Text(0.5,0,'distance, x [m]')"
      ]
     },
     "execution_count": 12,
     "metadata": {},
     "output_type": "execute_result"
    },
    {
     "data": {
      "image/png": "[encoded data removed]",
      "text/plain": [
       "<Figure size 432x288 with 1 Axes>"
      ]
     },
     "metadata": {},
     "output_type": "display_data"
    }
   ],
   "source": [
    "#This cell is added to plot figures based on the determined variables.\n",
    "\n",
    "#print(len(xwaal),len(waterlevels_normalwaal))\n",
    "\n",
    "import matplotlib.pyplot as plt\n",
    "\n",
    "plt.plot(xbovenrijn, waterlevels_normalbovenrijn)\n",
    "#plt.plot(xwaal, waterlevels_normalwaal)\n",
    "plt.ylabel('level NAP [cm]')\n",
    "plt.xlabel('distance, x [m]')"
   ]
  },
  {
   "cell_type": "markdown",
   "metadata": {},
   "source": [
    "## Bresse equation\n",
    "\n",
    "Based on the Bresse equation the backwatercurve based on the downstream water level can be determined."
   ]
  },
  {
   "cell_type": "code",
   "execution_count": 13,
   "metadata": {},
   "outputs": [],
   "source": [
    "# Riverstretch Bovenrijn\n",
    "C=48 #chezy-coefficient\n",
    "d_down=721.8 #waterdepth [cm] \n",
    "\n",
    "qbr = [qbovenrijn/WSbovenrijn[n] for n in range (0, len(dKMbovenrijn))] #discharge per unit width for each river stretch\n",
    "#cor_q=[round(q[n],2) for n in range (0,len(dKMbovenrijn))]\n",
    "\n",
    "h_eq_br = [(qbr[n]**2/((C**2)*S0))**(1/3)for n in range (0, len(dKMbovenrijn))] #equilibrium water depthfor each river stretch\n",
    "#cor_h_eq=[round(h_eq[n],2) for n in range (0,len(dKMbovenrijn))]\n",
    "\n",
    "#L_05 = [(0.24*cor_h_eq[n]/S0)*(y0[n]/cor_h_eq[n])**(4/3)for n in range (0, len(dKMbovenrijn))] #half length for each river stretch\n",
    "L_05_normal_br = [(0.24*y0_br[n]/S0)*(y0_br[n-1]/y0_br[n])**(4/3)for n in range (0, len(dKMbovenrijn))] #half length for each river stretch\n",
    "\n",
    "dd0_bovenrijn = [waterlevels_normalbovenrijn[i+1]-waterlevels_normalbovenrijn[i]+dKMbovenrijn[i]*S0 for i in range(0, len(dKMbovenrijn))] #bodemligging"
   ]
  },
  {
   "cell_type": "code",
   "execution_count": 14,
   "metadata": {},
   "outputs": [
    {
     "ename": "IndexError",
     "evalue": "list index out of range",
     "output_type": "error",
     "traceback": [
      "\u001b[1;31m---------------------------------------------------------------------------\u001b[0m",
      "\u001b[1;31mIndexError\u001b[0m                                Traceback (most recent call last)",
      "\u001b[1;32m<ipython-input-14-ee05c4652cbe>\u001b[0m in \u001b[0;36m<module>\u001b[1;34m()\u001b[0m\n\u001b[0;32m     12\u001b[0m \u001b[0mL_05_normal_waal\u001b[0m \u001b[1;33m=\u001b[0m \u001b[1;33m[\u001b[0m\u001b[1;33m(\u001b[0m\u001b[1;36m0.24\u001b[0m\u001b[1;33m*\u001b[0m\u001b[0my0_waal\u001b[0m\u001b[1;33m[\u001b[0m\u001b[0mn\u001b[0m\u001b[1;33m]\u001b[0m\u001b[1;33m/\u001b[0m\u001b[0mS0\u001b[0m\u001b[1;33m)\u001b[0m\u001b[1;33m*\u001b[0m\u001b[1;33m(\u001b[0m\u001b[0my0_waal\u001b[0m\u001b[1;33m[\u001b[0m\u001b[0mn\u001b[0m\u001b[1;33m-\u001b[0m\u001b[1;36m1\u001b[0m\u001b[1;33m]\u001b[0m\u001b[1;33m/\u001b[0m\u001b[0my0_waal\u001b[0m\u001b[1;33m[\u001b[0m\u001b[0mn\u001b[0m\u001b[1;33m]\u001b[0m\u001b[1;33m)\u001b[0m\u001b[1;33m**\u001b[0m\u001b[1;33m(\u001b[0m\u001b[1;36m4\u001b[0m\u001b[1;33m/\u001b[0m\u001b[1;36m3\u001b[0m\u001b[1;33m)\u001b[0m\u001b[1;32mfor\u001b[0m \u001b[0mn\u001b[0m \u001b[1;32min\u001b[0m \u001b[0mrange\u001b[0m \u001b[1;33m(\u001b[0m\u001b[1;36m0\u001b[0m\u001b[1;33m,\u001b[0m \u001b[0mlen\u001b[0m\u001b[1;33m(\u001b[0m\u001b[0mdKMwaal\u001b[0m\u001b[1;33m)\u001b[0m\u001b[1;33m)\u001b[0m\u001b[1;33m]\u001b[0m \u001b[1;31m#half length for each river stretch\u001b[0m\u001b[1;33m\u001b[0m\u001b[0m\n\u001b[0;32m     13\u001b[0m \u001b[1;33m\u001b[0m\u001b[0m\n\u001b[1;32m---> 14\u001b[1;33m \u001b[0mdd0_waal\u001b[0m \u001b[1;33m=\u001b[0m \u001b[1;33m[\u001b[0m\u001b[0mwaterlevels_normalwaal\u001b[0m\u001b[1;33m[\u001b[0m\u001b[0mi\u001b[0m\u001b[1;33m+\u001b[0m\u001b[1;36m1\u001b[0m\u001b[1;33m]\u001b[0m\u001b[1;33m-\u001b[0m\u001b[0mwaterlevels_normalwaal\u001b[0m\u001b[1;33m[\u001b[0m\u001b[0mi\u001b[0m\u001b[1;33m]\u001b[0m\u001b[1;33m+\u001b[0m\u001b[0mdKMwaal\u001b[0m\u001b[1;33m[\u001b[0m\u001b[0mi\u001b[0m\u001b[1;33m]\u001b[0m\u001b[1;33m*\u001b[0m\u001b[0mS0\u001b[0m \u001b[1;32mfor\u001b[0m \u001b[0mi\u001b[0m \u001b[1;32min\u001b[0m \u001b[0mrange\u001b[0m\u001b[1;33m(\u001b[0m\u001b[1;36m0\u001b[0m\u001b[1;33m,\u001b[0m \u001b[0mlen\u001b[0m\u001b[1;33m(\u001b[0m\u001b[0mdKMwaal\u001b[0m\u001b[1;33m)\u001b[0m\u001b[1;33m)\u001b[0m\u001b[1;33m]\u001b[0m \u001b[1;31m#bodemligging\u001b[0m\u001b[1;33m\u001b[0m\u001b[0m\n\u001b[0m",
      "\u001b[1;32m<ipython-input-14-ee05c4652cbe>\u001b[0m in \u001b[0;36m<listcomp>\u001b[1;34m(.0)\u001b[0m\n\u001b[0;32m     12\u001b[0m \u001b[0mL_05_normal_waal\u001b[0m \u001b[1;33m=\u001b[0m \u001b[1;33m[\u001b[0m\u001b[1;33m(\u001b[0m\u001b[1;36m0.24\u001b[0m\u001b[1;33m*\u001b[0m\u001b[0my0_waal\u001b[0m\u001b[1;33m[\u001b[0m\u001b[0mn\u001b[0m\u001b[1;33m]\u001b[0m\u001b[1;33m/\u001b[0m\u001b[0mS0\u001b[0m\u001b[1;33m)\u001b[0m\u001b[1;33m*\u001b[0m\u001b[1;33m(\u001b[0m\u001b[0my0_waal\u001b[0m\u001b[1;33m[\u001b[0m\u001b[0mn\u001b[0m\u001b[1;33m-\u001b[0m\u001b[1;36m1\u001b[0m\u001b[1;33m]\u001b[0m\u001b[1;33m/\u001b[0m\u001b[0my0_waal\u001b[0m\u001b[1;33m[\u001b[0m\u001b[0mn\u001b[0m\u001b[1;33m]\u001b[0m\u001b[1;33m)\u001b[0m\u001b[1;33m**\u001b[0m\u001b[1;33m(\u001b[0m\u001b[1;36m4\u001b[0m\u001b[1;33m/\u001b[0m\u001b[1;36m3\u001b[0m\u001b[1;33m)\u001b[0m\u001b[1;32mfor\u001b[0m \u001b[0mn\u001b[0m \u001b[1;32min\u001b[0m \u001b[0mrange\u001b[0m \u001b[1;33m(\u001b[0m\u001b[1;36m0\u001b[0m\u001b[1;33m,\u001b[0m \u001b[0mlen\u001b[0m\u001b[1;33m(\u001b[0m\u001b[0mdKMwaal\u001b[0m\u001b[1;33m)\u001b[0m\u001b[1;33m)\u001b[0m\u001b[1;33m]\u001b[0m \u001b[1;31m#half length for each river stretch\u001b[0m\u001b[1;33m\u001b[0m\u001b[0m\n\u001b[0;32m     13\u001b[0m \u001b[1;33m\u001b[0m\u001b[0m\n\u001b[1;32m---> 14\u001b[1;33m \u001b[0mdd0_waal\u001b[0m \u001b[1;33m=\u001b[0m \u001b[1;33m[\u001b[0m\u001b[0mwaterlevels_normalwaal\u001b[0m\u001b[1;33m[\u001b[0m\u001b[0mi\u001b[0m\u001b[1;33m+\u001b[0m\u001b[1;36m1\u001b[0m\u001b[1;33m]\u001b[0m\u001b[1;33m-\u001b[0m\u001b[0mwaterlevels_normalwaal\u001b[0m\u001b[1;33m[\u001b[0m\u001b[0mi\u001b[0m\u001b[1;33m]\u001b[0m\u001b[1;33m+\u001b[0m\u001b[0mdKMwaal\u001b[0m\u001b[1;33m[\u001b[0m\u001b[0mi\u001b[0m\u001b[1;33m]\u001b[0m\u001b[1;33m*\u001b[0m\u001b[0mS0\u001b[0m \u001b[1;32mfor\u001b[0m \u001b[0mi\u001b[0m \u001b[1;32min\u001b[0m \u001b[0mrange\u001b[0m\u001b[1;33m(\u001b[0m\u001b[1;36m0\u001b[0m\u001b[1;33m,\u001b[0m \u001b[0mlen\u001b[0m\u001b[1;33m(\u001b[0m\u001b[0mdKMwaal\u001b[0m\u001b[1;33m)\u001b[0m\u001b[1;33m)\u001b[0m\u001b[1;33m]\u001b[0m \u001b[1;31m#bodemligging\u001b[0m\u001b[1;33m\u001b[0m\u001b[0m\n\u001b[0m",
      "\u001b[1;31mIndexError\u001b[0m: list index out of range"
     ]
    }
   ],
   "source": [
    "# Riverstretch Waal\n",
    "C=48 #chezy-coefficient\n",
    "d_down=721.8 #waterdepth [cm] \n",
    "\n",
    "qw = [qwaal/WSwaal[n] for n in range (0, len(dKMwaal))] #discharge per unit width for each river stretch\n",
    "#cor_q=[round(q[n],2) for n in range (0,len(dKMwaal))]\n",
    "\n",
    "h_eq_waal = [(qw[n]**2/((C**2)*S0))**(1/3)for n in range (0, len(dKMwaal))] #equilibrium water depthfor each river stretch\n",
    "#cor_h_eq=[round(h_eq[n],2) for n in range (0,len(dKMwaal))]\n",
    "\n",
    "#L_05 = [(0.24*cor_h_eq[n]/S0)*(y0[n]/cor_h_eq[n])**(4/3)for n in range (0, len(dKMwaal))] #half length for each river stretch\n",
    "L_05_normal_waal = [(0.24*y0_waal[n]/S0)*(y0_waal[n-1]/y0_waal[n])**(4/3)for n in range (0, len(dKMwaal))] #half length for each river stretch\n",
    "\n",
    "dd0_waal = [waterlevels_normalwaal[i+1]-waterlevels_normalwaal[i]+dKMwaal[i]*S0 for i in range(0, len(dKMwaal))] #bodemligging"
   ]
  },
  {
   "cell_type": "code",
   "execution_count": 15,
   "metadata": {
    "scrolled": false
   },
   "outputs": [],
   "source": [
    "#print('normal waterdepth [m] is', around(y0,decimals=3))\n",
    "#print(len(xwaal),len(dKMwaal),len(waterlevels_normalwaal),len(y0))\n",
    "#print(waterlevels_normalwaal[0])"
   ]
  },
  {
   "cell_type": "code",
   "execution_count": 16,
   "metadata": {},
   "outputs": [],
   "source": [
    "#print(\"The discharge per unit width is\",round(q,2),'[m2/s].')\n",
    "#print(cor_q)\n",
    "\n",
    "#print(\"The equilibrium water depth is\",round(h_eq,2),'[m].')\n",
    "#print(cor_h_eq)\n",
    "\n",
    "#print(len(q), len(h_eq), len(L_05), len(dx))\n",
    "#print(L_05_normal[0],L_05_normal[7])\n",
    "#print(L_05[0],L_05[7])"
   ]
  },
  {
   "cell_type": "code",
   "execution_count": 17,
   "metadata": {},
   "outputs": [],
   "source": [
    "# Riverstrech Bovenrijn\n",
    "\n",
    "hflip_bovenrijn = zeros(len(dKMbovenrijn))\n",
    "#flip = zeros(len(dx))\n",
    "d0 = zeros(len(LSbovenrijn))\n",
    "\n",
    "for i in range (0,7):\n",
    "    hflip_bovenrijn[0]=721.8\n",
    "    #d0[0]=wl_flip[0]-bl_sum_flip[0]\n",
    "      \n",
    "    hflip_bovenrijn[i+1] = waterlevels_normalbovenrijn[i] + (hflip_bovenrijn[i]-waterlevels_normalbovenrijn[i]+S0*dKMbovenrijn[i])*(1/2)**(dKMbovenrijn[i]/L_05_normal_br[i])#water level at location x+1\n",
    "    \n",
    "    waterlevels_bovenrijn=hflip_bovenrijn[::-1]\n",
    "    \n",
    "    #hflip[i+1] = dflip[i] + cor_bl_sum[i]\n",
    "    #h_wl = hflip[::-1]\n",
    "    #d0[i+1]=dx_flip[i]*S#d0[i]+\n",
    "\n",
    "    #dflip[i+1] = y0[i] + (dflip[i]-y0[i])*(1/2)**(dx_flip[i]/L_05_normal[i])#depth at location x+1\n",
    "    #dd0[i] = [waterlevels_normal[i]-waterlevels[i-1]+dx_flip[i]*S \n",
    "    \n",
    "    #hflip[i+1] = waterlevels_normal[i+1] + (dd0[i]*2)**(dx_flip[i]/L_05_normal[i])#water level at location x+1\n",
    "    \n",
    "    #print(waterlevels)"
   ]
  },
  {
   "cell_type": "code",
   "execution_count": 18,
   "metadata": {},
   "outputs": [
    {
     "ename": "IndexError",
     "evalue": "index 186 is out of bounds for axis 0 with size 186",
     "output_type": "error",
     "traceback": [
      "\u001b[1;31m---------------------------------------------------------------------------\u001b[0m",
      "\u001b[1;31mIndexError\u001b[0m                                Traceback (most recent call last)",
      "\u001b[1;32m<ipython-input-18-ae90cf3a1388>\u001b[0m in \u001b[0;36m<module>\u001b[1;34m()\u001b[0m\n\u001b[0;32m      9\u001b[0m     \u001b[1;31m#d0[0]=wl_flip[0]-bl_sum_flip[0]\u001b[0m\u001b[1;33m\u001b[0m\u001b[1;33m\u001b[0m\u001b[0m\n\u001b[0;32m     10\u001b[0m \u001b[1;33m\u001b[0m\u001b[0m\n\u001b[1;32m---> 11\u001b[1;33m     \u001b[0mhflip_waal\u001b[0m\u001b[1;33m[\u001b[0m\u001b[0mi\u001b[0m\u001b[1;33m+\u001b[0m\u001b[1;36m1\u001b[0m\u001b[1;33m]\u001b[0m \u001b[1;33m=\u001b[0m \u001b[0mwaterlevels_normalwaal\u001b[0m\u001b[1;33m[\u001b[0m\u001b[0mi\u001b[0m\u001b[1;33m]\u001b[0m \u001b[1;33m+\u001b[0m \u001b[1;33m(\u001b[0m\u001b[0mhflip_waal\u001b[0m\u001b[1;33m[\u001b[0m\u001b[0mi\u001b[0m\u001b[1;33m]\u001b[0m\u001b[1;33m-\u001b[0m\u001b[0mwaterlevels_normalwaal\u001b[0m\u001b[1;33m[\u001b[0m\u001b[0mi\u001b[0m\u001b[1;33m]\u001b[0m\u001b[1;33m+\u001b[0m\u001b[0mS0\u001b[0m\u001b[1;33m*\u001b[0m\u001b[0mdKMwaal\u001b[0m\u001b[1;33m[\u001b[0m\u001b[0mi\u001b[0m\u001b[1;33m]\u001b[0m\u001b[1;33m)\u001b[0m\u001b[1;33m*\u001b[0m\u001b[1;33m(\u001b[0m\u001b[1;36m1\u001b[0m\u001b[1;33m/\u001b[0m\u001b[1;36m2\u001b[0m\u001b[1;33m)\u001b[0m\u001b[1;33m**\u001b[0m\u001b[1;33m(\u001b[0m\u001b[0mdKMwaal\u001b[0m\u001b[1;33m[\u001b[0m\u001b[0mi\u001b[0m\u001b[1;33m]\u001b[0m\u001b[1;33m/\u001b[0m\u001b[0mL_05_normal_waal\u001b[0m\u001b[1;33m[\u001b[0m\u001b[0mi\u001b[0m\u001b[1;33m]\u001b[0m\u001b[1;33m)\u001b[0m\u001b[1;31m#water level at location x+1\u001b[0m\u001b[1;33m\u001b[0m\u001b[0m\n\u001b[0m\u001b[0;32m     12\u001b[0m \u001b[1;33m\u001b[0m\u001b[0m\n\u001b[0;32m     13\u001b[0m     \u001b[0mwaterlevels_waal\u001b[0m\u001b[1;33m=\u001b[0m\u001b[0mhflip_waal\u001b[0m\u001b[1;31m#[::-1]\u001b[0m\u001b[1;33m\u001b[0m\u001b[0m\n",
      "\u001b[1;31mIndexError\u001b[0m: index 186 is out of bounds for axis 0 with size 186"
     ]
    }
   ],
   "source": [
    "# Riverstretch Waal\n",
    "\n",
    "hflip_waal = zeros(len(dKMwaal))\n",
    "#flip = zeros(len(dx))\n",
    "d0_waal = zeros(len(LSwaal))\n",
    "\n",
    "for i in range (0,186):\n",
    "    hflip_waal[0]=69\n",
    "    #d0[0]=wl_flip[0]-bl_sum_flip[0]\n",
    "      \n",
    "    hflip_waal[i+1] = waterlevels_normalwaal[i] + (hflip_waal[i]-waterlevels_normalwaal[i]+S0*dKMwaal[i])*(1/2)**(dKMwaal[i]/L_05_normal_waal[i])#water level at location x+1\n",
    "    \n",
    "    waterlevels_waal=hflip_waal#[::-1]\n",
    "    \n",
    "    #hflip[i+1] = dflip[i] + cor_bl_sum[i]\n",
    "    #h_wl = hflip[::-1]\n",
    "    #d0[i+1]=dx_flip[i]*S#d0[i]+\n",
    "\n",
    "    #dflip[i+1] = y0[i] + (dflip[i]-y0[i])*(1/2)**(dx_flip[i]/L_05_normal[i])#depth at location x+1\n",
    "    #dd0[i] = [waterlevels_normal[i]-waterlevels[i-1]+dx_flip[i]*S \n",
    "    \n",
    "    #hflip[i+1] = waterlevels_normal[i+1] + (dd0[i]*2)**(dx_flip[i]/L_05_normal[i])#water level at location x+1\n",
    "    \n",
    "   # print(waterlevels)"
   ]
  },
  {
   "cell_type": "code",
   "execution_count": 19,
   "metadata": {},
   "outputs": [
    {
     "data": {
      "text/plain": [
       "Text(0.5,0,'distance, x [m]')"
      ]
     },
     "execution_count": 19,
     "metadata": {},
     "output_type": "execute_result"
    },
    {
     "data": {
      "image/png": "[encoded data removed]",
      "text/plain": [
       "<Figure size 432x288 with 1 Axes>"
      ]
     },
     "metadata": {},
     "output_type": "display_data"
    }
   ],
   "source": [
    "import matplotlib.pyplot as plt\n",
    "\n",
    "plt.plot(xbovenrijn[0:8], waterlevels[0:8], xbovenrijn[0:8], Waterlevel_flip[672:681])\n",
    "#plt.plot(xwaal, waterlevels, xwaal, Waterlevel_flip[484:670])\n",
    "plt.ylabel('level NAP [cm]')\n",
    "plt.xlabel('distance, x [m]')"
   ]
  },
  {
   "cell_type": "markdown",
   "metadata": {},
   "source": [
    "## Plotting the graph as applied in the SOBEK-schematisation in 2013."
   ]
  },
  {
   "cell_type": "code",
   "execution_count": null,
   "metadata": {},
   "outputs": [],
   "source": [
    "import networkx as nx\n",
    "\n",
    "# Definition of the nodes in the graph. The nodes in the graph are the locations of calculation points of the SOBEK-simulation.\n",
    "G = nx.Graph()\n",
    "G.add_node(location[0], pos=(X[0],Y[0]), name=(KM[0]))\n",
    "#G.add_nodes_from(location[:], pos=(X[:],Y[:]), name=(KM[:]))\n",
    "\n",
    "for i in enumerate(location()): #adds nodes with label 1 till n nodes to the network. \n",
    "    G.add_node(i, pos= (X[i],Y[i])\n",
    "    #lat_lon_to_index[node] = i\n",
    "\n",
    "#print(G.node[7])\n",
    "\n",
    "# Definition of the edges between the nodes. The edges are defined by the different riverstreches given in the previous cell (definition of riverstretches). \n",
    "#def calculate_distance(Node1, Node2):\n",
    "    # calculate distance between two points\n",
    "   # distance = float(((Node2[0]-Node1[0])**2+(Node2[1]-Node1[1])**2)**0.5)\n",
    "   # return float(distance)\n",
    "\n",
    "\n",
    "\n",
    "#G.add_edge(location[0],location[1], dis= calculate_distance(nx.get_node_attributes(G, 'pos')[location[0]], nx.get_node_attributes(G, 'pos')[location[0]]))\n",
    " #for edge in G.edges(data=True): \n",
    "#G.add_edge(location[edge[0]], location[edge[1]], dis= calculate_distance(nx.get_node_attributes(G, 'pos')[location[edge[1]]], nx.get_node_attributes(G, 'pos')[location[edge[0]]]))   \n",
    "\n",
    "    \n",
    "#import matplotlib.pyplot as plt\n",
    "#plt.figure(figsize=(18,18))\n",
    "#nx.draw(G, nx.get_node_attributes(G, 'name'))\n",
    "\n",
    "\n",
    "#nx.draw(w_G, nx.get_node_attributes(w_G, 'pos'), with_labels=True, node_size=0.5, font_size = 8)\n"
   ]
  },
  {
   "cell_type": "markdown",
   "metadata": {},
   "source": [
    "## Plotting figures of results"
   ]
  },
  {
   "cell_type": "code",
   "execution_count": null,
   "metadata": {
    "scrolled": true
   },
   "outputs": [],
   "source": [
    "#This cell is added to plot figures based on the determined variables.\n",
    "\n",
    "#import matplotlib.pyplot as plt\n",
    "\n",
    "plt.plot(x,cor_bl_sum, x, cor_bl_win)\n",
    "plt.ylabel('level NAP [m]')\n",
    "plt.xlabel('distance, x [m]')"
   ]
  },
  {
   "cell_type": "code",
   "execution_count": null,
   "metadata": {
    "scrolled": false
   },
   "outputs": [],
   "source": [
    "import matplotlib.pyplot as plt\n",
    "\n",
    "plt.plot(x,cor_bl_sum,x_flip, waterlevels_normal)\n",
    "plt.ylabel('normal depth, y [m]')\n",
    "plt.xlabel('distance, x [m]')\n",
    "plt.title('waterlevel for normal flow in river stretch')"
   ]
  },
  {
   "cell_type": "code",
   "execution_count": null,
   "metadata": {
    "scrolled": true
   },
   "outputs": [],
   "source": [
    "#Cell added to print and plot.\n",
    "print(waterlevels)\n",
    "\n",
    "#import matplotlib.pyplot as plt\n",
    "\n",
    "plt.plot(x[0:91], hflip[0:91], x[0:91],bl_sum_flip[0:91])\n",
    "plt.ylabel('water level,[NAP+m]')\n",
    "plt.xlabel('distance, x [m]')"
   ]
  },
  {
   "cell_type": "code",
   "execution_count": null,
   "metadata": {},
   "outputs": [],
   "source": [
    "#Write output to a CSV-file\n",
    "import csv\n",
    "\n",
    "with open('employee_file.csv', mode='w') as employee_file:\n",
    "    employee_writer = csv.writer(employee_file, delimiter=';', quotechar='\"', quoting=csv.QUOTE_MINIMAL)\n",
    "\n",
    "    employee_writer.writerow([Xco_flip])\n",
    "    #employee_writer.writerow(['Erica Meyers', 'IT', 'March'])\n",
    "\n",
    "#with open(test, \"w\") as f:\n",
    "    #writer = csv.writer(f)\n",
    "    #for row in rows:\n",
    "       # writer.writerow(row)"
   ]
  },
  {
   "cell_type": "code",
   "execution_count": null,
   "metadata": {},
   "outputs": [],
   "source": [
    "import xlsxwriter\n",
    "\n",
    "# Create a workbook and add a worksheet.\n",
    "workbook = xlsxwriter.Workbook('model.xlsx')\n",
    "worksheet = workbook.add_worksheet()\n",
    "\n",
    "# Some data we want to write to the worksheet.\n",
    "expenses = xbovenrijn\n",
    "    #['Rent', 1000],\n",
    "    #['Gas',   100],\n",
    "    #['Food',  300],\n",
    "    #['Gym',    50],\n",
    "#)\n",
    "\n",
    "# Start from the first cell. Rows and columns are zero indexed.\n",
    "row = 0\n",
    "col = 0\n",
    "\n",
    "# Iterate over the data and write it out row by row.\n",
    "#for item, cost in (expenses):\n",
    "    worksheet.write(row, col,     expenses)\n",
    "    #worksheet.write(row, col + 1, cost)\n",
    "    #row += 1\n",
    "\n",
    "# Write a total using a formula.\n",
    "#worksheet.write(row, 0, 'Total')\n",
    "#worksheet.write(row, 1, '=SUM(B1:B4)')\n",
    "\n",
    "workbook.close()"
   ]
  }
 ],
 "metadata": {
  "kernelspec": {
   "display_name": "Python 3",
   "language": "python",
   "name": "python3"
  },
  "language_info": {
   "codemirror_mode": {
    "name": "ipython",
    "version": 3
   },
   "file_extension": ".py",
   "mimetype": "text/x-python",
   "name": "python",
   "nbconvert_exporter": "python",
   "pygments_lexer": "ipython3",
   "version": "3.6.6"
  }
 },
 "nbformat": 4,
 "nbformat_minor": 2
}

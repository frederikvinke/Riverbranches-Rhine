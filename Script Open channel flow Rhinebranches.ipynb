{
 "cells": [
  {
   "cell_type": "markdown",
   "metadata": {},
   "source": [
    "Script to simulate hydrodynamics over a river section based on different discharges upstream.\n",
    "\n",
    "The physical calculations are performed by the analytical model based on the Manning formula, for which stationar and uniform flow is assumed:\n",
    "\n",
    "    Q=K S^0,5 A R^(2/3)\n",
    "\n",
    "To do that first the geometric parameters (hydraulic radius, perimeter and surface area) are computed by the function conv_function_basic() based on the input of a criss section('data_bat_csv).\n",
    "\n",
    "Since we are not always dealing with normal flow a backwatercurve is performed by the Bresse fit\n",
    "    d = de + (d0-de)2^(L/105) with L05 - 0.24 de /S*d(d0/de)^0,75\n",
    "    \n",
    "By Bart Strijker, adapted by Koen Hiemstra, adapted by PhD-student Frederik Vinke\n",
    "\n",
    "Version Frederik\n",
    "This is a basic concept model for PhD-research. In this case one river stretch is assumed for a certain river discharge.\n",
    "This basic model will be extented to a model for the river branches of the Waal.\n",
    "\n"
   ]
  },
  {
   "cell_type": "code",
   "execution_count": 198,
   "metadata": {},
   "outputs": [],
   "source": [
    "#In this cell all the needed packages in this script are imported:\n",
    "\n",
    "import math\n",
    "from numpy import *\n",
    "import matplotlib.pyplot as plt"
   ]
  },
  {
   "cell_type": "code",
   "execution_count": 199,
   "metadata": {},
   "outputs": [],
   "source": [
    "#Physical parameters\n",
    "g=9.81"
   ]
  },
  {
   "cell_type": "markdown",
   "metadata": {},
   "source": [
    "In this part the parameters of the riversystem (width, conveyance area, length, bed slope and roughnes) are defined or loaded based on the available files."
   ]
  },
  {
   "cell_type": "code",
   "execution_count": 200,
   "metadata": {
    "scrolled": true
   },
   "outputs": [],
   "source": [
    "#Channel dimensions \n",
    "B=250 # width of the river [m]\n",
    "m=0 #slope of riverbank\n",
    "L=36 # length of the riverstretch [km]\n",
    "x0=0 #starting point\n",
    "\n",
    "#Channel slope\n",
    "#According to De Vries (1993), Sieben (2009), Sloff et al.(2014) and Blom (2016), the channel slope of the Waal river is 1.0*10^-4\n",
    "#and 1.2*10^-4.\n",
    "S=1.2*10**-4\n",
    "\n",
    "#Roughness\n",
    "n_main=0.03 \n",
    "\n",
    "\n",
    "#Bathymetry river Waal \n",
    "\n",
    "import csv\n",
    "with open ('waal_rkm.csv') as f:   #Reading csv file with bathymetry data of the river Waal\n",
    "    reader = csv.reader(f, delimiter=';')\n",
    "       \n",
    "    kms=[]\n",
    "    waterlevels=[]\n",
    "    widths=[]\n",
    "    depths_summer=[]\n",
    "    depths_winter=[]\n",
    "    \n",
    "    for row in reader:\n",
    "        km = row[1]\n",
    "        wl = row [3]\n",
    "        width = row[4]\n",
    "        depth_summer = row[7]\n",
    "        depth_winter = row[9]\n",
    "\n",
    "        \n",
    "        kms.append(km) # list of riverkilometers\n",
    "        waterlevels.append(wl) # list of waterlevels at location\n",
    "        widths.append(width) #list of average width of summerbed at riverkilometer\n",
    "        depths_summer.append(depth_summer) #list of average depth of summerbed at riverkilometer\n",
    "        depths_winter.append(depth_winter) #list of average depth of winterbed at riverkilometer\n",
    "        \n",
    "        list1 = (kms[1:93])\n",
    "        x=[float(i) for i in list1] #change strings into floating number\n",
    "        \n",
    "        t=x[::-1]\n",
    "               \n",
    "        list2 = (waterlevels[1:93])\n",
    "        waterlevel=[float(i) for i in list2] #change strings into floating number\n",
    "        \n",
    "        list3 = (widths[1:93])\n",
    "        b=[float(i) for i in list3] #change strings into floating number\n",
    "                \n",
    "        list4 = (depths_summer[1:93])\n",
    "        d_summer=[float(i) for i in list4] #change strings into floating number\n",
    "\n",
    "        list5 = (depths_winter[1:93])\n",
    "        d_winter=[float(i) for i in list5] #change strings into floating number\n",
    "    \n",
    "#A list of the distance between the locations is determined based on the riverlocations    \n",
    "    x=[float(i) for i in list1] #change strings into floating\n",
    "    N=len(x) #number of locations\n",
    "    M=N-1 #number of riverstretches\n",
    "    xdiff = [x[n]-x[n-1] for n in range(1,len(x))]\n",
    "    dx=xdiff #distance between the locations\n",
    "    \n",
    "#Construction of cross-sections at the riverkilometer; The assumption are 1)rectangular cross-section of the summerbed.\n",
    "#2)only lower river discharge are taken into account in this model\n",
    "bottomlevel_summer = [waterlevel[n]-d_summer[n] for n in range (0,len(waterlevel))] #bottom summerbed level tov NAP in [mm]\n",
    "bottomlevel_winter = [waterlevel[n]-d_winter[n] for n in range (0,len(waterlevel))] #bottom winterbed level tov NAP in [mm]\n",
    "\n",
    "cor_bl_sum = [bottomlevel_summer[n]/100 for n in range (0,len(waterlevel))] #bottom level summerbed tov NAP in [m]\n",
    "cor_bl_win = [bottomlevel_winter[n]/100 for n in range (0,len(waterlevel))] #bottom level winterbed tov NAP in [m]\n",
    "depth_summerbed = [cor_bl_win[n]-cor_bl_sum[n] for n in range (0,len(waterlevel))] #depth of summerbed tov NAP in [m]\n",
    "\n",
    "#depth_summerbed = [cor_bl_win[n]-cor_bl_sum[n] for n in range (0,len(waterlevel))] #depth of summerbed tov NAP in [m]\n",
    "test = [round(depth_summerbed[n],2) for n in range (0,len(waterlevel))]\n",
    "#print(test)\n"
   ]
  },
  {
   "cell_type": "code",
   "execution_count": 208,
   "metadata": {},
   "outputs": [],
   "source": [
    "#This cell is added to test the cell above by printing some of the variables.\n",
    "\n",
    "#print(x)\n",
    "#print(waterlevel)\n",
    "#print(b)\n",
    "#print(d_summer)\n",
    "#print(d_winter)\n",
    "#print(dx)\n",
    "#print(depth_summerbed)\n",
    "#print(test)"
   ]
  },
  {
   "cell_type": "code",
   "execution_count": 209,
   "metadata": {},
   "outputs": [
    {
     "data": {
      "text/plain": [
       "Text(0.5,0,'distance, x [m]')"
      ]
     },
     "execution_count": 209,
     "metadata": {},
     "output_type": "execute_result"
    },
    {
     "data": {
      "image/png": "[encoded data removed]",
      "text/plain": [
       "<Figure size 432x288 with 1 Axes>"
      ]
     },
     "metadata": {},
     "output_type": "display_data"
    }
   ],
   "source": [
    "#This cell is added to plot figures based on the determined variables.\n",
    "\n",
    "#import matplotlib.pyplot as plt\n",
    "\n",
    "plt.plot(x,cor_bl_sum, x, cor_bl_win)\n",
    "plt.ylabel('level NAP [m]')\n",
    "plt.xlabel('distance, x [m]')"
   ]
  },
  {
   "cell_type": "markdown",
   "metadata": {},
   "source": [
    "This part describes the hydraulic boundary conditions: incoming river discharge upstream of the river and the downstream water level based on a Q-h relation. "
   ]
  },
  {
   "cell_type": "code",
   "execution_count": 214,
   "metadata": {},
   "outputs": [],
   "source": [
    "#Riverdischarge upstream\n",
    "Q=1050\n",
    "\n",
    "#Downstream water level based on Q-h relation\n",
    "if Q < 1000:\n",
    "    h=2.33*math.log(Q)-11.863\n",
    "    \n",
    "elif 1000<=Q & Q<=1400:\n",
    "    h=3.9585*math.log(Q)-23.128\n",
    "\n",
    "elif 1400<=Q & Q<=4000:\n",
    "    h=3.7355*math.log(Q)-21.671\n",
    "\n",
    "elif 4000<=Q & Q<=7071:\n",
    "     h=3.7364*math.log(Q)-21.51\n",
    "        \n",
    "elif Q>7071:\n",
    "       h=3.9585*math.log(Q)-23.128\n",
    "\n",
    "h_down=h\n",
    "\n",
    "#Downstream waterdepth\n",
    "d_down=h_down-cor_bl_sum[91]"
   ]
  },
  {
   "cell_type": "code",
   "execution_count": 215,
   "metadata": {
    "scrolled": true
   },
   "outputs": [
    {
     "name": "stdout",
     "output_type": "stream",
     "text": [
      "The incoming river discharge upstream is 1050 m3/s.\n",
      "The downstream water level is 4.41 m.\n",
      "The downstream water depth is 5.93 m.\n"
     ]
    }
   ],
   "source": [
    "#This cell is added to print variables determined in the previous cell.\n",
    "print('The incoming river discharge upstream is',Q,'m3/s.')\n",
    "print('The downstream water level is',round(h_down,2),'m.')\n",
    "print('The downstream water depth is',round(d_down,2),'m.')"
   ]
  },
  {
   "cell_type": "code",
   "execution_count": 205,
   "metadata": {},
   "outputs": [],
   "source": [
    "#Flip arrays for calculation starting at the downstream location of the riverstretch\n",
    "\n",
    "wl_flip=waterlevel[::-1]\n",
    "b_flip=b[::-1]\n",
    "bl_sum_flip=cor_bl_sum[::-1]\n",
    "bl_win_flip=cor_bl_win[::-1]\n",
    "dx_flip=dx[::-1]"
   ]
  },
  {
   "cell_type": "markdown",
   "metadata": {},
   "source": [
    "The discharge at given point x will be calculated based on the Manning formula."
   ]
  },
  {
   "cell_type": "code",
   "execution_count": null,
   "metadata": {},
   "outputs": [],
   "source": []
  },
  {
   "cell_type": "markdown",
   "metadata": {},
   "source": [
    "Bresse equation\n",
    "\n",
    "Based on the Bresse equation the backwatercurve based on the downstream water level can be determined."
   ]
  },
  {
   "cell_type": "code",
   "execution_count": 156,
   "metadata": {},
   "outputs": [],
   "source": [
    "L= 50000 #length between point downstream and point upstream of riverstretch [m]\n",
    "S=0.00012\n",
    "C=50 #chezy-coefficient\n",
    "Q=1000 #river discharge [m3/s]\n",
    "#B=250 #width [m]\n",
    "d_down=5.74 #waterdepth [m] \n",
    "\n",
    "q = [Q/b_flip[n] for n in range (0, len(dx))] #discharge per unit width for each river stretch\n",
    "cor_q=[round(q[n],2) for n in range (0,len(dx))]\n",
    "\n",
    "h_eq = [(q[n]**2/((C**2)*S))**(1/3)for n in range (0, len(dx))] #equilibrium water depthfor each river stretch\n",
    "cor_h_eq=[round(h_eq[n],2) for n in range (0,len(dx))]\n",
    "\n",
    "L_05 = [(0.24*cor_h_eq[n]/S)*(d_down/cor_h_eq[n])**(4/3)for n in range (0, len(dx))] #half length for each river stretch\n",
    "\n",
    "#print(L_05)\n"
   ]
  },
  {
   "cell_type": "code",
   "execution_count": 193,
   "metadata": {},
   "outputs": [
    {
     "name": "stdout",
     "output_type": "stream",
     "text": [
      "5.74\n"
     ]
    },
    {
     "ename": "TypeError",
     "evalue": "'module' object is not callable",
     "output_type": "error",
     "traceback": [
      "\u001b[1;31m---------------------------------------------------------------------------\u001b[0m",
      "\u001b[1;31mTypeError\u001b[0m                                 Traceback (most recent call last)",
      "\u001b[1;32m<ipython-input-193-f3982ca4b14c>\u001b[0m in \u001b[0;36m<module>\u001b[1;34m()\u001b[0m\n\u001b[0;32m      1\u001b[0m \u001b[0mprint\u001b[0m\u001b[1;33m(\u001b[0m\u001b[0md_down\u001b[0m\u001b[1;33m)\u001b[0m\u001b[1;33m\u001b[0m\u001b[0m\n\u001b[0;32m      2\u001b[0m \u001b[1;33m\u001b[0m\u001b[0m\n\u001b[1;32m----> 3\u001b[1;33m \u001b[0mdflip\u001b[0m \u001b[1;33m=\u001b[0m \u001b[0mzeros\u001b[0m\u001b[1;33m(\u001b[0m\u001b[0mlen\u001b[0m\u001b[1;33m(\u001b[0m\u001b[0mdx\u001b[0m\u001b[1;33m)\u001b[0m\u001b[1;33m)\u001b[0m\u001b[1;33m\u001b[0m\u001b[0m\n\u001b[0m\u001b[0;32m      4\u001b[0m \u001b[1;33m\u001b[0m\u001b[0m\n\u001b[0;32m      5\u001b[0m \u001b[1;32mfor\u001b[0m \u001b[0mi\u001b[0m \u001b[1;32min\u001b[0m \u001b[0mrange\u001b[0m \u001b[1;33m(\u001b[0m\u001b[1;36m0\u001b[0m\u001b[1;33m,\u001b[0m\u001b[0mlen\u001b[0m\u001b[1;33m(\u001b[0m\u001b[0mdx\u001b[0m\u001b[1;33m)\u001b[0m\u001b[1;33m-\u001b[0m\u001b[1;36m1\u001b[0m\u001b[1;33m)\u001b[0m\u001b[1;33m:\u001b[0m\u001b[1;33m\u001b[0m\u001b[0m\n",
      "\u001b[1;31mTypeError\u001b[0m: 'module' object is not callable"
     ]
    }
   ],
   "source": [
    "print(d_down)\n",
    "\n",
    "dflip = zeros(len(dx))\n",
    "\n",
    "for i in range (0,len(dx)-1):\n",
    "    dflip[0]=d_down\n",
    "    dflip[i+1] = h_eq[i] + (dflip[i]-h_eq[i])*(1/2)**(dx_flip[i]/L_05[i])#depth at location x+1\n",
    "\n",
    "    #print()\n",
    "    \n",
    " #from numpy import *\n",
    "\n",
    "#wflip = zeros(len(dx))\n",
    "\n",
    "#for i in range (0,len(dx)-1):\n",
    "  #  wflip[0]=d_down\n",
    "   # wflip[i+1] = cor_bl_sum [i] + h_eq[i] + (wflip[i]-h_eq[i])*(1/2)**(wflip[i]/h_eq[i])#depth at location x+1\n",
    "\n",
    "   # w=wflip[::-1]"
   ]
  },
  {
   "cell_type": "code",
   "execution_count": 182,
   "metadata": {},
   "outputs": [
    {
     "data": {
      "text/plain": [
       "Text(0.5,0,'distance, x [m]')"
      ]
     },
     "execution_count": 182,
     "metadata": {},
     "output_type": "execute_result"
    },
    {
     "data": {
      "image/png": "[encoded data removed]",
      "text/plain": [
       "<Figure size 432x288 with 1 Axes>"
      ]
     },
     "metadata": {},
     "output_type": "display_data"
    }
   ],
   "source": [
    "#Cell added to print and plot.\n",
    "\n",
    "#print(\"The discharge per unit width is\",round(q,2),'[m2/s].')\n",
    "#print(cor_q)\n",
    "\n",
    "#print(\"The equilibrium water depth is\",round(h_eq,2),'[m].')\n",
    "#print(cor_h_eq)\n",
    "\n",
    "#print(wflip)\n",
    "\n",
    "#import matplotlib.pyplot as plt\n",
    "\n",
    "plt.plot(x[0:91], dflip, x,bl_sum_flip)\n",
    "plt.ylabel('depth, y [m]')\n",
    "plt.xlabel('distance, x [m]')"
   ]
  },
  {
   "cell_type": "markdown",
   "metadata": {},
   "source": [
    "De onderstaande berekening is gebaseerd op een voorbeeld van Youtube: \"open channel flow - python coding\" - Amiane McEwen"
   ]
  },
  {
   "cell_type": "code",
   "execution_count": 126,
   "metadata": {},
   "outputs": [
    {
     "name": "stdout",
     "output_type": "stream",
     "text": [
      "critical deptph [m] 0.972\n",
      "normal waterdepth [m] is [1.265]\n"
     ]
    }
   ],
   "source": [
    "from numpy import *\n",
    "from scipy.optimize import fsolve,newton\n",
    "\n",
    "#normal flow\n",
    "def Manning (y, Q, b, S, n, k, m):\n",
    "    A=(b+m*y)*y # conveyance surface area [m2] =>(width*depth)\n",
    "    R=A/(b+2*y*(1+m**2)**(1/2)) #hydraulic radius [-]\n",
    "    return Q-(C0/n)*A*R**(2/3)*S**(1/2)\n",
    "\n",
    "#critical flow\n",
    "def critT(y):\n",
    "    A=(b+m*y)*y\n",
    "    B=b+2*m*y\n",
    "    return Q/math.sqrt(g*A**3/B)-1\n",
    " \n",
    "g=9.81\n",
    "Q=30\n",
    "b=10\n",
    "m=0\n",
    "S0=0.0050 #bed slope of the river\n",
    "x0=0 #starting point\n",
    "\n",
    "k=1 #roughnesse dependend on discharge\n",
    "n=0.03 #roughness\n",
    "C0=1\n",
    "\n",
    "yc=newton(critT,0.2)\n",
    "y0=fsolve(Manning,1, args=(Q, b, S0, n, C0, m))\n",
    "print('critical deptph [m]', around(yc, decimals=3))\n",
    "print('normal waterdepth [m] is', around(y0,decimals=3))"
   ]
  },
  {
   "cell_type": "code",
   "execution_count": 122,
   "metadata": {},
   "outputs": [],
   "source": [
    "#specify depths\n",
    "\n",
    "yd=yc #downstream\n",
    "yu = around(y0, decimals=4) #upstream\n",
    "yu=1.2619 #needed to match Moglen"
   ]
  },
  {
   "cell_type": "code",
   "execution_count": 135,
   "metadata": {},
   "outputs": [],
   "source": [
    "#calculate profile (small number of points) \n",
    "N= 8 #number of calculation points\n",
    "y= array([yd, 1, 1.05, 1.1, 1.15, 1.2, 1.25, yu])\n",
    "\n",
    "#N=100\n",
    "#y= linespace[yd, yu, N]\n",
    "\n",
    "dx = zeros(N-1)\n",
    "x = zeros (N)\n",
    "\n",
    "A = (b+m*y)*y\n",
    "R = A/(b+2*y*(1+m**2)**(1/2))\n",
    "Sf = (Q*n/(C0*A*R**(2/3)))**2\n",
    "E = y+Q**2/(2*g*A**2) # \n",
    "\n",
    "dx = (E[1:]-E[:-1])/(S0-0.5*(Sf[1:]+Sf[:-1]))\n",
    "x[0] = x0\n",
    "x[1:] = dx\n",
    "x = cumsum(x)"
   ]
  },
  {
   "cell_type": "code",
   "execution_count": 136,
   "metadata": {},
   "outputs": [
    {
     "name": "stdout",
     "output_type": "stream",
     "text": [
      "[   0.     -0.2    -1.8    -5.78  -13.87  -30.72  -77.92 -136.11]\n"
     ]
    }
   ],
   "source": [
    "print(around(x, decimals=2))"
   ]
  },
  {
   "cell_type": "code",
   "execution_count": 137,
   "metadata": {
    "scrolled": false
   },
   "outputs": [
    {
     "name": "stdout",
     "output_type": "stream",
     "text": [
      "distance to the upstream bc = -136.11\n"
     ]
    },
    {
     "data": {
      "image/png": "[encoded data removed]",
      "text/plain": [
       "<Figure size 432x288 with 1 Axes>"
      ]
     },
     "metadata": {},
     "output_type": "display_data"
    }
   ],
   "source": [
    "import matplotlib.pyplot as plt\n",
    "\n",
    "plt.plot(x,y, linestyle='-', marker='o', color='b')\n",
    "plt.ylabel('depth, y [m]')\n",
    "plt.xlabel('distance, x [m]')\n",
    "print('distance to the upstream bc =', around (x[N-1], decimals=2))"
   ]
  },
  {
   "cell_type": "code",
   "execution_count": 138,
   "metadata": {
    "scrolled": true
   },
   "outputs": [
    {
     "name": "stdout",
     "output_type": "stream",
     "text": [
      "distance to the upstream bc = -136.11\n"
     ]
    },
    {
     "data": {
      "image/png": "[encoded data removed]",
      "text/plain": [
       "<Figure size 432x288 with 1 Axes>"
      ]
     },
     "metadata": {},
     "output_type": "display_data"
    }
   ],
   "source": [
    "eta = -x*S0\n",
    "WSE = eta+y\n",
    "\n",
    "plt.plot(x,eta, 'k-', label='bed')\n",
    "plt.plot(x,WSE, linestyle='-', color='b', label='WSE')\n",
    "plt.legend()\n",
    "plt.ylabel('Elevation, [m]')\n",
    "plt.xlabel('distance, x [m]')\n",
    "plt.xlim(x[N-1],x[0])\n",
    "print('distance to the upstream bc =', around(x[N-1], decimals=2))"
   ]
  },
  {
   "cell_type": "code",
   "execution_count": null,
   "metadata": {},
   "outputs": [],
   "source": []
  },
  {
   "cell_type": "markdown",
   "metadata": {},
   "source": [
    "Hier onder allemaal test scripts voor onderdelen!!!!!"
   ]
  },
  {
   "cell_type": "code",
   "execution_count": null,
   "metadata": {},
   "outputs": [],
   "source": [
    "L= 50000 #length between point downstream and point upstream of riverstretch [m]\n",
    "S=0.0001\n",
    "C=50 #chezy-coefficient\n",
    "Q=803 #river discharge [m3/s]\n",
    "B=250 #width [m]\n",
    "h_down=4.34 #waterdepth [m] \n",
    "\n",
    "q=Q/B#discharge per unit width\n",
    "#print(\"The discharge per unit width is\",round(q,2),'[m2/s].')\n",
    "\n",
    "h_eq=(q**2/((C**2)*S))**(1/3)\n",
    "#print(\"The equilibrium water depth is\",round(h_eq,2),'[m].')\n",
    "\n",
    "L_05 = (0.24*h_eq/S)*(h_down/h_eq)**(4/3) #half length\n",
    "#print(\"The half length is\",round(L_05),'[m].')\n",
    "\n",
    "h_location = h_eq+(h_down-h_eq)*(1/2**(L/L_05))\n",
    "#print(\"The waterdepth at location at distance L is\",round(h_location,2),'[m].')\n",
    "\n",
    "\n",
    "\n",
    "#verder uitgewerkte test versie\n",
    "#q = [Q/b[n] for n in range (0, len(dx))] #discharge per unit width for each river stretch\n",
    "#cor_q=[round(q[n],2) for n in range (0,len(dx))]\n",
    "#print(\"The discharge per unit width is\",round(q,2),'[m2/s].')\n",
    "#print(cor_q)\n",
    "\n",
    "#h_eq=[(q[n]**2/((C**2)*S))**(1/3)for n in range (0, len(dx))] #equilibrium water depthfor each river stretch\n",
    "#cor_h_eq=[round(h_eq[n],2) for n in range (0,len(dx))]\n",
    "#print(\"The equilibrium water depth is\",round(h_eq,2),'[m].')\n",
    "#print(cor_h_eq)\n",
    "\n",
    "#L_05 = [(0.24*cor_h_eq[n]/S)*(h_down/cor_h_eq[n])**(4/3)for n in range (0, len(dx))] #half length for each river stretch\n",
    "#cor_L_05=[round(L_05[n],0) for n in range (0,len(dx))]\n",
    "#print(\"The half length is\",round(L_05),'[m].')\n",
    "#print(cor_L_05)\n",
    "\n",
    "#h_location = [cor_h_eq[n]+(h_down-cor_h_eq[n])*(1/2**(dx[n]/cor_L_05[n]))for n in range (0, len(dx))] #depth at location x+1 \n",
    "#cor_h_location=[round(h_location[n],2) for n in range (0,len(dx))]\n",
    "#print(\"The waterdepth at location at distance L is\",round(h_location,2),'[m].')\n",
    "#print(cor_h_location)"
   ]
  },
  {
   "cell_type": "code",
   "execution_count": null,
   "metadata": {
    "scrolled": true
   },
   "outputs": [],
   "source": [
    "#Channel dimensions\n",
    "b=250 # width of the river [m]\n",
    "m=0 #slope of riverbank\n",
    "L=36 # length of the riverstretch [km]\n",
    "x0=0 #starting point\n",
    "\n",
    "#Channel slope\n",
    "#According to De Vries (1993), Sieben (2009), Sloff et al.(2014) and Blom (2016), the channel slope of the Waal river is 1.0*10^-4\n",
    "#and 1.2*10^-4.\n",
    "S=0.00012\n",
    "\n",
    "#Roughness\n",
    "n_main=0.03 #Gauckler-Manning coefficient\n",
    "k=1 #or 1.49 for English units\n",
    "K=1/n_main\n",
    "\n",
    "Qup=500\n",
    "\n",
    "y=2.8 #trail and error to find y\n",
    "\n",
    "A=(b+m*y)*y #conveyance surface area [m2] =>(width*depth)\n",
    "P=(b+2*y*(1+m**2)**1/2) #Perimeter [m]\n",
    "R= A/P #hydraulic radius [-]\n",
    "Q=K*(S**0.5)*A*R**(2/3)\n",
    "\n",
    "Q_round=round(Q,0)\n",
    "print(Q_round)\n"
   ]
  },
  {
   "cell_type": "code",
   "execution_count": 192,
   "metadata": {},
   "outputs": [
    {
     "name": "stdout",
     "output_type": "stream",
     "text": [
      "riverdischarge [m3/s] 52.34\n",
      "critical deptph [m] 0.16\n"
     ]
    }
   ],
   "source": [
    "from numpy import *\n",
    "from scipy.optimize import *\n",
    "\n",
    "k=1 #roughnesse dependend on discharge\n",
    "n=0.03 #roughness\n",
    "S=0.00012 #bed slope of the river\n",
    "m=0\n",
    "b=250\n",
    "g=9.81\n",
    "Q=30\n",
    "\n",
    "#normal flow\n",
    "def V_Manning (A, Rh, S, n):\n",
    "    return A*Rh**(2/3.)*S**0.5/n\n",
    "    \n",
    "Q=V_Manning(50, 0.2859, 0.005236, 0.03)  \n",
    "print('riverdischarge [m3/s]', round(Q,2))\n",
    "\n",
    "    #    A=(b+m*y)*y # conveyance surface area [m2] =>(width*depth)\n",
    " #   R= A/(b+2*y*(1+m**2)**1/2) #hydraulic radius [-]\n",
    "  #  return  (k/n)*S^0.5*A*R^(2/3)\n",
    "\n",
    "\n",
    "#critical flow\n",
    "def critT(y):\n",
    "    A=(b+m*y)*y\n",
    "    B=b+2*m*y\n",
    "    return Q/math.sqrt(g*A**3/B)-1\n",
    "\n",
    "yc=newton(critT,0.2)\n",
    "y=fsolve(Manning,10, args=(Q, b, S, n, k, m))\n",
    "print('critical deptph [m]', round(yc,2))\n",
    "#print('normal waterdepth [m] is',y)"
   ]
  }
 ],
 "metadata": {
  "kernelspec": {
   "display_name": "Python 3",
   "language": "python",
   "name": "python3"
  },
  "language_info": {
   "codemirror_mode": {
    "name": "ipython",
    "version": 3
   },
   "file_extension": ".py",
   "mimetype": "text/x-python",
   "name": "python",
   "nbconvert_exporter": "python",
   "pygments_lexer": "ipython3",
   "version": "3.6.6"
  }
 },
 "nbformat": 4,
 "nbformat_minor": 2
}

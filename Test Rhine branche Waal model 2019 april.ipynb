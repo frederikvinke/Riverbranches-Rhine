{
 "cells": [
  {
   "cell_type": "markdown",
   "metadata": {},
   "source": [
    "Script to simulate hydrodynamics over a river section based on different discharges upstream.\n",
    "\n",
    "The physical calculations are performed by the analytical model based on the Manning formula, for which stationar and uniform flow is assumed:\n",
    "\n",
    "    Q=K S^0,5 A R^(2/3)\n",
    "\n",
    "To do that first the geometric parameters (hydraulic radius, perimeter and surface area) are computed by the function conv_function_basic() based on the input of a criss section('data_bat_csv).\n",
    "\n",
    "Since we are not always dealing with normal flow a backwatercurve is performed by the Bresse fit\n",
    "    d = de + (d0-de)2^(L/105) with L05 - 0.24 de /S*d(d0/de)^0,75\n",
    "    \n",
    "By Bart Strijker, adapted by Koen Hiemstra. Koen Hiemstra applied a method for Transverse slope and Bedforms.\n",
    "\n",
    "\n",
    "Version Frederik:\n",
    "This is a concept model for PhD-research of the Rhine branches. In this case the river stretch Waal.\n",
    "\n"
   ]
  },
  {
   "cell_type": "code",
   "execution_count": 1,
   "metadata": {},
   "outputs": [],
   "source": [
    "#In this cell all the needed packages in this script are imported:\n",
    "\n",
    "import math\n",
    "from numpy import *\n",
    "import matplotlib.pyplot as plt\n",
    "import csv\n",
    "from scipy.optimize import fsolve,newton\n",
    "import networkx as nx"
   ]
  },
  {
   "cell_type": "code",
   "execution_count": 2,
   "metadata": {},
   "outputs": [],
   "source": [
    "#Physical parameters\n",
    "g=9.81"
   ]
  },
  {
   "cell_type": "markdown",
   "metadata": {},
   "source": [
    "## Define the parameters of the river system "
   ]
  },
  {
   "cell_type": "code",
   "execution_count": 19,
   "metadata": {},
   "outputs": [],
   "source": [
    "#Bathymetry river system: This is a file based on the data of a SOBEK-simulation in 2013 (provided by Max Schropp to Koen Hiemstra).\n",
    "with open ('River_Waal_data.csv') as f:   #Reading csv file with bathymetry data of the river branches\n",
    "    reader = csv.reader(f, delimiter=';')\n",
    "    base_list = list(reader)\n",
    "    mylist=base_list[1:270]\n",
    "\n",
    "# Define lists of parameters\n",
    "    \n",
    "    point=[]\n",
    "    name=[]\n",
    "    x=[]\n",
    "    y=[]\n",
    "    kms=[]\n",
    "    waterlevels=[]\n",
    "    waterlevels700=[]\n",
    "    width_summerbed=[]\n",
    "    level_summerbed=[]\n",
    "    level_winterbed=[]\n",
    "    chezy=[]\n",
    "    nw=[]\n",
    "\n",
    "    for row in mylist:\n",
    "        point.append(row [0])\n",
    "        name.append(row [1])\n",
    "        x.append(row[2])\n",
    "        y.append(row[3])\n",
    "        kms.append(row[5])\n",
    "        waterlevels.append(row [9])\n",
    "        waterlevels700.append(row[8])\n",
    "        width_summerbed.append(row[11])\n",
    "        level_summerbed.append(row[21])\n",
    "        level_winterbed.append(row[24])\n",
    "        chezy.append(row[27])\n",
    "        nw.append(row[29])\n",
    "\n",
    "# Change items of list from strings to floating numbers or integer \n",
    "location = [int(i) for i in point]\n",
    "X = [float(i) for i in x] #positie moet nog door 1000 worden gedeeld om oorspronkelijke coordinaten terug te krijgen\n",
    "Xco = [X[n]/1000 for n in range (0,len(X))]\n",
    "Y = [float(i) for i in y] #positie moet nog door 1000 worden gedeeld om oorspronkelijke coordinaten terug te krijgen\n",
    "Yco = [Y[n]/1000 for n in range (0,len(Y))]\n",
    "KM = [int(i) for i in kms]\n",
    "Waterlevel = [int(i) for i in waterlevels] #waterlevels in centimeters\n",
    "Waterlevels700 = [int(i) for i in waterlevels700]#waterlevels in centimeters\n",
    "Width_summerbed = [int(i) for i in width_summerbed] # width in meter\n",
    "Level_summerbed = [int(i) for i in level_summerbed] # NAP + centimeters\n",
    "Level_winterbed = [int(i) for i in level_winterbed] # NAP + centimeters\n",
    "Chezy = [int(i) for i in chezy]\n",
    "N = [int(i) for i in nw]\n",
    "nwaarde = [N[n]/100 for n in range (0,len(N))]\n",
    "\n",
    "#print(nwaarde)"
   ]
  },
  {
   "cell_type": "code",
   "execution_count": 20,
   "metadata": {},
   "outputs": [],
   "source": [
    "with open ('Meetpunten RWS.csv') as f:   #Reading csv file with bathymetry data of the river branches\n",
    "    mreader = csv.reader(f, delimiter=';')\n",
    "    mbase_list = list(mreader)\n",
    "    metingen=mbase_list[11:18]\n",
    "    \n",
    "    wwaal=[]\n",
    "    punten=[]\n",
    "    \n",
    "for row in metingen: \n",
    "    wwaal.append(row[4])\n",
    "    punten.append(row[3])\n",
    "    mwaal = [int(i) for i in wwaal]\n",
    "    meetpunten = [int(i) for i in punten]\n",
    "    \n",
    "    #print(myssel, meetpunten)"
   ]
  },
  {
   "cell_type": "code",
   "execution_count": 21,
   "metadata": {},
   "outputs": [],
   "source": [
    "# Define the different riverstretches of the system\n",
    "# Bovenrijn = cell 0:8\n",
    "# Waal = cell 9:195\n",
    "# Pannerdensch kanaal = cell 196:220\n",
    "# Nederrijn = cell 221:319\n",
    "# Lek = cell 320:440\n",
    "# Yssel = cell 441:669\n",
    "# Keteldiep = cell 670:679"
   ]
  },
  {
   "cell_type": "code",
   "execution_count": 22,
   "metadata": {
    "scrolled": true
   },
   "outputs": [],
   "source": [
    "# A list of the distance along the river between the locations is determined based on the riverlocations and X/Y-coordinates.    \n",
    "dKM=[KM[n]-KM[n-1] for n in range(1,len(KM))] #distance between the locations\n",
    "dX=[Xco[n]-Xco[n-1] for n in range(1,len(Xco))]\n",
    "dY=[Yco[n]-Yco[n-1] for n in range(1,len(Yco))]\n",
    "\n",
    "#print(dKM)\n"
   ]
  },
  {
   "cell_type": "markdown",
   "metadata": {},
   "source": [
    "## Define the hydraulic boundary conditions: incoming river discharge upstream of the river and the downstream water level based on a Q-h relation. "
   ]
  },
  {
   "cell_type": "code",
   "execution_count": 23,
   "metadata": {},
   "outputs": [],
   "source": [
    "# This part describes the hydraulic boundary conditions: incoming river discharge upstream of the river and the downstream water level based on a Q-h relation.\n",
    "# The upstream boundary condition is the incoming riverdischarge at Lobith. At bifurcation Pannerdensche kop a discharge distribution is applied \n",
    "# for the discharges into the Waal and the Pannerdensch channel. At the second bifurcation Ysselkop also a discharge distribution to the Nederrijn\n",
    "# and the Yssel is implemented based on the information provided RWS Oost-Nederland. Information from year 2000 based on measurements \n",
    "# of the year 1998 & 1999 for closed barriers in the Nederrijn.\n",
    "\n",
    "import csv\n",
    "with open ('DD_Rhinebranches.csv') as f:   #Reading csv file with bathymetry data of the river Waal\n",
    "    reader = csv.reader(f, delimiter=';')\n",
    "\n",
    "# Define lists of river discharges\n",
    "    qlobith=[]\n",
    "    qwaal=[]\n",
    "    qpkan=[]\n",
    "    qneder=[]\n",
    "    qyssel=[]\n",
    "    qtotal=[]\n",
    "        \n",
    "    for row in reader:    \n",
    "          \n",
    "        qlobith.append(row[0]) # incoming discharge Lobith\n",
    "        qwaal.append(row[1]) # discharge Waal\n",
    "        qpkan.append(row[2]) # discharge Pannerdensch kanaal\n",
    "        qneder.append(row[3]) #discharge Nederrijn\n",
    "        qyssel.append(row[4]) #discharge Yssel\n",
    "\n",
    "# Change items of list from strings to floating numbers or integer \n",
    "Qlob = [int(i) for i in qlobith] \n",
    "Qwaal = [int(i) for i in qwaal] \n",
    "Qpkan = [int(i) for i in qpkan] \n",
    "Qneder = [int(i) for i in qneder] \n",
    "Qyssel = [int(i) for i in qyssel]  \n",
    "\n",
    "#print(Qyssel)    "
   ]
  },
  {
   "cell_type": "code",
   "execution_count": 24,
   "metadata": {},
   "outputs": [
    {
     "name": "stdout",
     "output_type": "stream",
     "text": [
      "Qbovenrijn 1013\n",
      "QPannerdensch Kanaal 200\n",
      "QWaal 813\n",
      "QNederrijn 30\n",
      "QYssel 170\n"
     ]
    },
    {
     "data": {
      "image/png": "[encoded data removed]",
      "text/plain": [
       "<Figure size 432x288 with 1 Axes>"
      ]
     },
     "metadata": {},
     "output_type": "display_data"
    }
   ],
   "source": [
    "# In this cell the discharge distribution is defined based on the given river discharge of the Bovenrijn.\n",
    "waal, = plt.plot(Qlob, Qwaal, label='Waal') \n",
    "pkan, = plt.plot(Qlob, Qpkan, label='Pann kanaal')               \n",
    "neder, = plt.plot(Qlob, Qneder, label='Nederrijn') \n",
    "yssel, = plt.plot(Qlob, Qyssel, label='Yssel')\n",
    "plt.title('Discharge distribution')\n",
    "plt.legend(handles=[waal, pkan, neder, yssel])\n",
    "\n",
    "plt.ylabel('Qriverstretch [m3/s]')\n",
    "plt.xlabel('Q bovenrijn [m3/s]')\n",
    "\n",
    "# River discharge division in case of closed barriers in the range of QLobith=823-1430 m3/s\n",
    "qbovenrijn=1013\n",
    "\n",
    "if qbovenrijn==700:\n",
    "    qpkan=117\n",
    "    qwaal=583\n",
    "    qnederrijn=11\n",
    "    qyssel=106\n",
    "    bovenrijn_ben=633.2\n",
    "    pankan_ben=612.7\n",
    "    waal_ben=69\n",
    "    neder_ben=600\n",
    "    yssel_ben=-35\n",
    "elif qbovenrijn==823:\n",
    "    qpkan=150\n",
    "    qwaal=673\n",
    "    qnederrijn=30\n",
    "    qyssel=120\n",
    "    bovenrijn_ben=721.8\n",
    "    pankan_ben=697.8\n",
    "    waal_ben=69\n",
    "    neder_ben=271.6\n",
    "    yssel_ben=-32.5        \n",
    "elif qbovenrijn==1013:\n",
    "    qpkan=200\n",
    "    qwaal=813\n",
    "    qnederrijn=30\n",
    "    qyssel=170\n",
    "    pankan_ben=697.8\n",
    "    waal_ben=69\n",
    "    neder_ben=271.6\n",
    "    yssel_ben=-32.5\n",
    "else:\n",
    "    print('No values.')\n",
    "    \n",
    "print('Qbovenrijn',qbovenrijn)\n",
    "print('QPannerdensch Kanaal',qpkan)\n",
    "print('QWaal',qwaal)\n",
    "print('QNederrijn',qnederrijn)\n",
    "print('QYssel',qyssel)"
   ]
  },
  {
   "cell_type": "code",
   "execution_count": 25,
   "metadata": {},
   "outputs": [],
   "source": [
    "#Flip arrays for calculation starting at the downstream location of the riverstretch\n",
    "Xco_flip=Xco[::-1]\n",
    "Yco_flip=Yco[::-1]\n",
    "KM_flip=KM[::-1]\n",
    "dKM_flip=dKM[::-1]\n",
    "Waterlevel_flip=Waterlevel[::-1]\n",
    "Waterlevel700_flip=Waterlevels700[::-1]\n",
    "Width_summerbed_flip=Width_summerbed[::-1]\n",
    "Level_summerbed_flip=Level_summerbed[::-1]\n",
    "Level_winterbed_flip=Level_winterbed[::-1] \n",
    "Chezy_flip=Chezy[::-1]\n",
    "nwaarde_flip=nwaarde[::-1]\n",
    "\n",
    "# Define the different riverstretches of the system\n",
    "# Bovenrijn = cell 671:681 \n",
    "xbovenrijn = KM_flip[241:249]\n",
    "dKMbovenrijn = dKM_flip[241:249]\n",
    "wlbovenrijn = Waterlevel700_flip[241:249]\n",
    "wlbovenrijn700 = Waterlevel_flip[241:249]\n",
    "WSbovenrijn = Width_summerbed_flip [241:249]\n",
    "LSbovenrijn = Level_summerbed_flip[241:249]\n",
    "LWbovenrijn = Level_winterbed_flip[241:249]\n",
    "\n",
    "# Waal1 = cell 484:672\n",
    "xwaal = KM_flip[0:260]\n",
    "dKMwaal = dKM_flip[0:260]\n",
    "wlwaal = Waterlevel_flip[0:260]\n",
    "wlwaal700 = Waterlevel700_flip[0:260]\n",
    "WSwaal = Width_summerbed_flip[0:260]\n",
    "LSwaal = Level_summerbed_flip[0:260]\n",
    "LWwaal = Level_winterbed_flip[0:260]\n",
    "Chezywaal = Chezy_flip[0:260]\n",
    "nwaarde_waal = nwaarde_flip[0:260]\n"
   ]
  },
  {
   "cell_type": "code",
   "execution_count": 26,
   "metadata": {},
   "outputs": [
    {
     "name": "stdout",
     "output_type": "stream",
     "text": [
      "260\n",
      "[0.09, 0.09, 0.09, 0.09, 0.09, 0.09, 0.09, 0.09, 0.09, 0.09, 0.09, 0.09, 0.09, 0.09, 0.09, 0.09, 0.09, 0.09, 0.09, 0.09, 0.09, 0.09, 0.09, 0.09, 0.09, 0.09, 0.09, 0.09, 0.09, 0.09, 0.09, 0.09, 0.09, 0.09, 0.09, 0.09, 0.09, 0.09, 0.09, 0.09, 0.09, 0.09, 0.09, 0.09, 0.09, 0.09, 0.09, 0.09, 0.09, 0.09, 0.09, 0.09, 0.09, 0.09, 0.09, 0.09, 0.09, 0.09, 0.09, 0.09, 0.09, 0.09, 0.09, 0.09, 0.09, 0.09, 0.09, 0.09, 0.09, 0.09, 0.09, 0.09, 0.09, 0.09, 0.09, 0.09, 0.09, 0.09, 0.09, 0.09, 0.09, 0.09, 0.09, 0.09, 0.09, 0.09, 0.09, 0.09, 0.09, 0.09, 0.09, 0.09, 0.09, 0.09, 0.09, 0.09, 0.09, 0.09, 0.09, 0.09, 0.09, 0.09, 0.09, 0.09, 0.09, 0.09, 0.09, 0.09, 0.09, 0.09, 0.09, 0.09, 0.09, 0.09, 0.09, 0.09, 0.09, 0.09, 0.09, 0.09, 0.09, 0.09, 0.09, 0.09, 0.09, 0.09, 0.09, 0.09, 0.09, 0.09, 0.09, 0.09, 0.09, 0.09, 0.09, 0.09, 0.09, 0.09, 0.09, 0.09, 0.09, 0.09, 0.09, 0.09, 0.09, 0.09, 0.09, 0.09, 0.09, 0.09, 0.09, 0.09, 0.09, 0.09, 0.09, 0.09, 0.09, 0.09, 0.09, 0.09, 0.09, 0.09, 0.09, 0.09, 0.09, 0.09, 0.09, 0.09, 0.06, 0.06, 0.06, 0.06, 0.06, 0.06, 0.06, 0.06, 0.06, 0.06, 0.06, 0.06, 0.06, 0.06, 0.06, 0.06, 0.06, 0.06, 0.06, 0.06, 0.06, 0.06, 0.06, 0.06, 0.06, 0.06, 0.06, 0.06, 0.06, 0.06, 0.06, 0.06, 0.06, 0.06, 0.06, 0.06, 0.06, 0.06, 0.06, 0.06, 0.06, 0.06, 0.06, 0.06, 0.06, 0.06, 0.06, 0.06, 0.06, 0.06, 0.06, 0.06, 0.06, 0.06, 0.06, 0.06, 0.06, 0.06, 0.06, 0.06, 0.06, 0.06, 0.06, 0.06, 0.06, 0.06, 0.06, 0.06, 0.06, 0.06, 0.06, 0.06, 0.06, 0.06, 0.06, 0.06, 0.06, 0.06, 0.06, 0.06, 0.06, 0.06, 0.06, 0.06, 0.06, 0.06, 0.06, 0.06, 0.06, 0.06, 0.06, 0.06]\n"
     ]
    }
   ],
   "source": [
    "#print(len(dKMwaal))\n",
    "#print(nwaarde_waal)"
   ]
  },
  {
   "cell_type": "markdown",
   "metadata": {},
   "source": [
    "## Manning formula calculations to determine normal and critical flow depth."
   ]
  },
  {
   "cell_type": "code",
   "execution_count": 44,
   "metadata": {},
   "outputs": [],
   "source": [
    "#Channel slope\n",
    "#According to De Vries (1993), Sieben (2009), Sloff et al.(2014) and Blom (2016), the channel slope of the Waal river is 1.0*10^-4\n",
    "#and 1.2*10^-4.\n",
    "\n",
    "S0=0.00012 #bed slope of the rivert\n",
    "k=1 #roughnesse dependend on discharge\n",
    "#Roughness of main channel\n",
    "n=0.0295 \n",
    "n2=0.08\n",
    "n3=0.065\n",
    "C0=1\n",
    "\n",
    "#Riverstretch Waal & Yssel\n",
    "\n",
    "#normal flow\n",
    "def Manning (y, qwaal, b, S, n, k, m):\n",
    "    A=(b+m*y)*y # conveyance surface area [m2] =>(width*depth)\n",
    "    R=A/(b+2*y*(1+m**2)**(1/2)) #hydraulic radius [-]\n",
    "    return qwaal-(C0/n)*A*R**(2/3)*S**(1/2)\n",
    "m=0\n",
    "\n",
    "\n",
    "#normal flow depth in steady flow is also upstream water dept of river stretch  \n",
    "y0_waal = zeros(len(WSwaal))\n",
    "y0_waal = [fsolve(Manning,1, args=(qwaal, WSwaal[i], S0, 0.06, C0, m)) for i in range (0, len(WSwaal))] \n",
    "\n",
    "#bovenstroomse waterstand van een traject dx tov NAP [m]=h_bov_e\n",
    "waterlevels_normalwaal =zeros(len(y0_waal))\n",
    "waterlevels_normalwaal = [y0_waal[i]*100+LSwaal[i] for i in range(0, len(y0_waal))] \n"
   ]
  },
  {
   "cell_type": "markdown",
   "metadata": {},
   "source": [
    "## Bresse equation\n",
    "\n",
    "Based on the Bresse equation the backwatercurve based on the downstream water level can be determined."
   ]
  },
  {
   "cell_type": "code",
   "execution_count": 45,
   "metadata": {},
   "outputs": [],
   "source": [
    "# Riverstretch Waal and Yssel\n",
    "#chezy-coefficient\n",
    "Cwaal=44\n",
    "Cyssel=34\n",
    "\n",
    "#discharge per unit width for each river stretch\n",
    "qw = [qwaal/WSwaal[n] for n in range (0, len(dKMwaal))] \n",
    "\n",
    "#equilibrium water depthfor each river stretch\n",
    "h_eq_waal = [(qw[n]**2/((Chezywaal[n]**2)*S0))**(1/3)for n in range (0, len(dKMwaal))]\n",
    "waterlevels_eqwaal = [h_eq_waal[i]*100+LSwaal[i] for i in range(0,len(dKMwaal))] \n",
    "\n",
    "#L_05 = [(0.24*cor_h_eq[n]/S0)*(y0[n]/cor_h_eq[n])**(4/3)for n in range (0, len(dKMwaal))] \n",
    "\n",
    "#half length for each river stretch\n",
    "L_05 = [(0.24*h_eq_waal[n]/S0)*(y0_waal[n]/h_eq_waal[n])**(4/3)for n in range (0, len(dKMwaal))] \n",
    "L_05_normal_waal = [(0.24*y0_waal[n]/S0)*(y0_waal[n-1]/y0_waal[n])**(4/3)for n in range (0, len(dKMwaal))]\n",
    "\n",
    "#bodemligging\n",
    "dd0_waal = [waterlevels_normalwaal[i+1]-waterlevels_normalwaal[i]+dKMwaal[i]*S0 for i in range(0,259)] \n"
   ]
  },
  {
   "cell_type": "code",
   "execution_count": 46,
   "metadata": {},
   "outputs": [],
   "source": [
    "#print(h_eq_yssel[0],L_05_normal_yssel[0],dd0_yssel[0])"
   ]
  },
  {
   "cell_type": "code",
   "execution_count": 47,
   "metadata": {},
   "outputs": [],
   "source": [
    "# Riverstretch Waal \n",
    "\n",
    "hflip_waal = zeros(len(dKMwaal))\n",
    "\n",
    "#d0_waal = zeros(len(LSwaal))\n",
    "\n",
    "for i in range (0,259):\n",
    "    hflip_waal[0]=0\n",
    "    \n",
    "    #water level at location x+1  \n",
    "    hflip_waal[i+1] = waterlevels_normalwaal[i] + (hflip_waal[i]-waterlevels_normalwaal[i]+S0*dKMwaal[i])*(1/2)**(dKMwaal[i]/L_05_normal_waal[i])\n",
    "    \n",
    "    waterlevels_waal=hflip_waal#[::-1]\n",
    "    \n",
    "    diff_waal = zeros(len(waterlevels_waal))\n",
    "    diff_waal = [waterlevels_waal[i]-wlwaal[i] for i in range(0,259)]\n",
    "\n",
    "\n",
    "    #hflip[i+1] = dflip[i] + cor_bl_sum[i]\n",
    "    #h_wl = hflip[::-1]\n",
    "    #d0[i+1]=dx_flip[i]*S#d0[i]+\n",
    "\n",
    "    #dflip[i+1] = y0[i] + (dflip[i]-y0[i])*(1/2)**(dx_flip[i]/L_05_normal[i])#depth at location x+1\n",
    "    #dd0[i] = [waterlevels_normal[i]-waterlevels[i-1]+dx_flip[i]*S \n",
    "    \n",
    "    #hflip[i+1] = waterlevels_normal[i+1] + (dd0[i]*2)**(dx_flip[i]/L_05_normal[i])#water level at location x+1\n",
    "    \n"
   ]
  },
  {
   "cell_type": "code",
   "execution_count": 48,
   "metadata": {},
   "outputs": [],
   "source": [
    "#print(L_05_normal_waal)"
   ]
  },
  {
   "cell_type": "markdown",
   "metadata": {},
   "source": [
    "### Module to determine the width-average waterdepth"
   ]
  },
  {
   "cell_type": "code",
   "execution_count": 49,
   "metadata": {},
   "outputs": [],
   "source": [
    "depth_waal = [(waterlevels_waal[i]-LSwaal[i])/280 for i in range(0,259)]\n"
   ]
  },
  {
   "cell_type": "markdown",
   "metadata": {},
   "source": [
    "## Plotting figures of results"
   ]
  },
  {
   "cell_type": "code",
   "execution_count": 50,
   "metadata": {},
   "outputs": [
    {
     "data": {
      "text/plain": [
       "Text(0.5,0,'distance, x [m]')"
      ]
     },
     "execution_count": 50,
     "metadata": {},
     "output_type": "execute_result"
    },
    {
     "data": {
      "image/png": "[encoded data removed]",
      "text/plain": [
       "<Figure size 432x288 with 1 Axes>"
      ]
     },
     "metadata": {},
     "output_type": "display_data"
    }
   ],
   "source": [
    "#This cell is added to plot figures based on the determined variables.\n",
    "plt.figure(1)\n",
    "plt.plot(xwaal, waterlevels_normalwaal)\n",
    "plt.ylabel('level NAP [cm]')\n",
    "plt.xlabel('distance, x [m]')\n",
    "\n",
    "#plt.figure(2)\n",
    "#plt.plot(xyssel, waterlevels_normalyssel)\n",
    "#plt.ylabel('level NAP [cm]')\n",
    "#plt.xlabel('distance, x [m]')"
   ]
  },
  {
   "cell_type": "code",
   "execution_count": 51,
   "metadata": {},
   "outputs": [
    {
     "data": {
      "text/plain": [
       "Text(0.5,0,'distance, x [m]')"
      ]
     },
     "execution_count": 51,
     "metadata": {},
     "output_type": "execute_result"
    },
    {
     "data": {
      "image/png": "[encoded data removed]",
      "text/plain": [
       "<Figure size 432x288 with 1 Axes>"
      ]
     },
     "metadata": {},
     "output_type": "display_data"
    }
   ],
   "source": [
    "# Plot of riverstretch Waal\n",
    "plt.figure(4)\n",
    "#normal, = plt.plot(xyssel, waterlevels_normalyssel, label='norm flow')\n",
    "model, = plt.plot(xwaal[0:259], waterlevels_waal[0:259], label='model') \n",
    "SOBEK, = plt.plot(xwaal[0:259], wlwaal[0:259], label='SOBEK-simulation')\n",
    "bottom, = plt.plot(xwaal[0:259], LSwaal[0:259], label='Bottom summerbed')\n",
    "meting, = plt.plot(meetpunten[0:7], mwaal[0:7], label='Metingen')\n",
    "plt.title('Levels NAP [cm] Waal')\n",
    "plt.legend(handles=[model, SOBEK, bottom, meting])\n",
    "plt.ylabel('level NAP [cm]')\n",
    "plt.xlabel('distance, x [m]')"
   ]
  }
 ],
 "metadata": {
  "kernelspec": {
   "display_name": "Python 3",
   "language": "python",
   "name": "python3"
  },
  "language_info": {
   "codemirror_mode": {
    "name": "ipython",
    "version": 3
   },
   "file_extension": ".py",
   "mimetype": "text/x-python",
   "name": "python",
   "nbconvert_exporter": "python",
   "pygments_lexer": "ipython3",
   "version": "3.6.6"
  }
 },
 "nbformat": 4,
 "nbformat_minor": 2
}
